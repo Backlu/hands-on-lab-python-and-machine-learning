{
 "cells": [
  {
   "cell_type": "markdown",
   "id": "3b9d4a39",
   "metadata": {},
   "source": [
    "# Lab 4: Bollinger Bands (布林通道)"
   ]
  },
  {
   "cell_type": "markdown",
   "id": "2ebd0d77",
   "metadata": {},
   "source": [
    "![](images/02.jpg)\n",
    "![](images/03.png)\n"
   ]
  },
  {
   "cell_type": "code",
   "execution_count": null,
   "id": "e36e0599",
   "metadata": {},
   "outputs": [],
   "source": [
    "import requests\n",
    "import pandas as pd\n",
    "import matplotlib.pyplot as plt\n",
    "import seaborn as sns"
   ]
  },
  {
   "cell_type": "markdown",
   "id": "dbb63482",
   "metadata": {},
   "source": [
    "### 1. 網路爬蟲抓股價"
   ]
  },
  {
   "cell_type": "code",
   "execution_count": null,
   "id": "ad62e79a",
   "metadata": {},
   "outputs": [],
   "source": [
    "dates = [20240501, 20240401, 20240301, 20240201]\n",
    "stockNo = 2330\n",
    "url_template = \"https://www.twse.com.tw/exchangeReport/STOCK_DAY?response=html&date={}&stockNo={}\"\n",
    "\n",
    "for date in dates :\n",
    "    url = url_template.format(date, stockNo)\n",
    "    file_name = \"{}_{}.csv\".format(stockNo, date)\n",
    "    \n",
    "    data = pd.read_html(requests.get(url).text)[0]\n",
    "    data.columns = data.columns.droplevel(0)\n",
    "    data.to_csv(file_name, index=False)"
   ]
  },
  {
   "cell_type": "markdown",
   "id": "83b5feae",
   "metadata": {},
   "source": [
    "### 2. 布林通道\n"
   ]
  },
  {
   "cell_type": "code",
   "execution_count": null,
   "id": "34c4279e",
   "metadata": {},
   "outputs": [],
   "source": [
    "df_part1 = pd.read_csv('2330_20240301.csv')\n",
    "df_part2 = pd.read_csv('2330_20240401.csv')\n",
    "df_part3 = pd.read_csv('2330_20240501.csv')\n",
    "df_2330 = pd.concat([df_part1, df_part2, df_part3])\n",
    "df_2330.sort_values(by='日期', inplace=True)"
   ]
  },
  {
   "cell_type": "code",
   "execution_count": null,
   "id": "f12547b9",
   "metadata": {},
   "outputs": [],
   "source": [
    "MA_window=10\n",
    "df_2330['收盤價_mean'] = df_2330['收盤價'].rolling(window=MA_window).mean()\n",
    "df_2330['收盤價_std'] = df_2330['收盤價'].rolling(window=MA_window).std()\n",
    "df_2330['bands_upper'] = df_2330['收盤價_mean'] + df_2330['收盤價_std']*2\n",
    "df_2330['bands_lower'] = df_2330['收盤價_mean'] - df_2330['收盤價_std']*2"
   ]
  },
  {
   "cell_type": "code",
   "execution_count": null,
   "id": "527a0f63",
   "metadata": {},
   "outputs": [],
   "source": [
    "plt.figure(figsize=(22,3))\n",
    "plt.plot(df_2330['日期'], df_2330['收盤價_mean'], label='MA10')\n",
    "plt.plot(df_2330['日期'], df_2330['收盤價'], label='2330_Close')\n",
    "plt.plot(df_2330['日期'], df_2330['收盤價'], 'o')\n",
    "plt.fill_between(df_2330['日期'], df_2330['bands_lower'], df_2330['bands_upper'], alpha=0.2, label='Bollinger Bands')\n",
    "plt.xticks(rotation=40, ha='right');\n",
    "#plt.axvline('113/04/19', ls='--', color='darkred', label='4/19')\n",
    "#plt.axvline('113/04/22', ls='--', color='darkred', label='4/22')\n",
    "plt.legend()\n",
    "plt.grid()\n"
   ]
  },
  {
   "cell_type": "markdown",
   "id": "5cf0691e",
   "metadata": {},
   "source": [
    "### 交易策略\n",
    "- 當價格突破上界時放空\n",
    "- 當價格突破下界時買進"
   ]
  },
  {
   "cell_type": "markdown",
   "id": "ec20f75e",
   "metadata": {},
   "source": [
    "![images/01.png](images/01.png_)"
   ]
  },
  {
   "cell_type": "code",
   "execution_count": null,
   "id": "c104cf50",
   "metadata": {},
   "outputs": [],
   "source": []
  }
 ],
 "metadata": {
  "kernelspec": {
   "display_name": "Python 3 (ipykernel)",
   "language": "python",
   "name": "python3"
  },
  "language_info": {
   "codemirror_mode": {
    "name": "ipython",
    "version": 3
   },
   "file_extension": ".py",
   "mimetype": "text/x-python",
   "name": "python",
   "nbconvert_exporter": "python",
   "pygments_lexer": "ipython3",
   "version": "3.8.2"
  }
 },
 "nbformat": 4,
 "nbformat_minor": 5
}
