{
 "cells": [
  {
   "cell_type": "markdown",
   "id": "2cccb078",
   "metadata": {},
   "source": [
    "# Lab 4: Bollinger Bands (布林通道)"
   ]
  },
  {
   "cell_type": "markdown",
   "id": "3c4bb790",
   "metadata": {},
   "source": [
    "![](images/02.jpg)\n",
    "![](images/03.png)\n"
   ]
  },
  {
   "cell_type": "markdown",
   "id": "bd7bcbdf",
   "metadata": {},
   "source": [
    "## 2330.TW"
   ]
  },
  {
   "cell_type": "code",
   "execution_count": null,
   "id": "051dd2b6",
   "metadata": {},
   "outputs": [],
   "source": [
    "import pandas as pd\n",
    "import matplotlib.pyplot as plt\n",
    "import matplotlib.dates as mdates\n",
    "import seaborn as sns\n",
    "#!pip install yfinance\n",
    "import yfinance as yf"
   ]
  },
  {
   "cell_type": "markdown",
   "id": "bf0d5a97",
   "metadata": {},
   "source": [
    "### 1. 網路爬蟲抓股價"
   ]
  },
  {
   "cell_type": "code",
   "execution_count": null,
   "id": "5efd836d",
   "metadata": {},
   "outputs": [],
   "source": [
    "STOCK_CODE='2330.TW'\n",
    "df_TSMC = yf.Ticker(STOCK_CODE).history(period=\"6mo\")\n"
   ]
  },
  {
   "cell_type": "markdown",
   "id": "06099335",
   "metadata": {},
   "source": [
    "### 2. 布林通道\n"
   ]
  },
  {
   "cell_type": "code",
   "execution_count": null,
   "id": "14d2b48e",
   "metadata": {},
   "outputs": [],
   "source": [
    "MA_window=10\n",
    "df_TSMC['Close_mean'] = df_TSMC['Close'].rolling(window=MA_window).mean()\n",
    "df_TSMC['Close_std'] = df_TSMC['Close'].rolling(window=MA_window).std()\n",
    "df_TSMC['bands_upper'] = df_TSMC['Close_mean'] + df_TSMC['Close_std']*2\n",
    "df_TSMC['bands_lower'] = df_TSMC['Close_mean'] - df_TSMC['Close_std']*2\n"
   ]
  },
  {
   "cell_type": "code",
   "execution_count": null,
   "id": "11972d8a",
   "metadata": {},
   "outputs": [],
   "source": [
    "plt.figure(figsize=(22,3))\n",
    "plt.plot(df_TSMC['Close_mean'], label='MA10')\n",
    "plt.plot(df_TSMC['Close'], label='2330_Close')\n",
    "plt.plot(df_TSMC['Close'], 'o')\n",
    "plt.fill_between(df_TSMC.index, df_TSMC['bands_lower'], df_TSMC['bands_upper'], alpha=0.2, label='Bollinger Bands')\n",
    "plt.xticks(rotation=40, ha='right');\n",
    "plt.title(STOCK_CODE)\n",
    "plt.legend()\n",
    "plt.grid()\n",
    "plt.gca().xaxis.set_major_locator(mdates.DayLocator(interval=3))  # 设置xticks label\n",
    "plt.gca().xaxis.set_major_formatter(mdates.DateFormatter('%m/%d'))  # 设置日期格式\n",
    "plt.show()\n"
   ]
  },
  {
   "cell_type": "markdown",
   "id": "fb41e419",
   "metadata": {},
   "source": [
    "### 交易策略\n",
    "- 當價格突破上界時放空\n",
    "- 當價格突破下界時買進"
   ]
  },
  {
   "cell_type": "markdown",
   "id": "22592cb8",
   "metadata": {},
   "source": [
    "![images/01.png](images/01.png_)"
   ]
  },
  {
   "cell_type": "markdown",
   "id": "dd1002e1",
   "metadata": {},
   "source": [
    "## META"
   ]
  },
  {
   "cell_type": "code",
   "execution_count": null,
   "id": "f338a604",
   "metadata": {},
   "outputs": [],
   "source": [
    "STOCK_CODE='META'\n",
    "df_META = yf.Ticker(STOCK_CODE).history(period=\"3mo\")\n"
   ]
  },
  {
   "cell_type": "code",
   "execution_count": null,
   "id": "b595fa23",
   "metadata": {},
   "outputs": [],
   "source": [
    "MA_window=10\n",
    "df_META['Close_mean'] = df_META['Close'].rolling(window=MA_window).mean()\n",
    "df_META['Close_std'] = df_META['Close'].rolling(window=MA_window).std()\n",
    "df_META['bands_upper'] = df_META['Close_mean'] + df_META['Close_std']*2\n",
    "df_META['bands_lower'] = df_META['Close_mean'] - df_META['Close_std']*2\n",
    "\n",
    "plt.figure(figsize=(22,5))\n",
    "plt.plot(df_META['Close_mean'], label='MA10')\n",
    "plt.plot(df_META['Close'], label='2330_Close')\n",
    "plt.plot(df_META['Close'], 'o')\n",
    "plt.fill_between(df_META.index, df_META['bands_lower'], df_META['bands_upper'], alpha=0.2, label='Bollinger Bands')\n",
    "plt.xticks(rotation=40, ha='right');\n",
    "plt.title(STOCK_CODE)\n",
    "plt.legend()\n",
    "plt.grid()\n",
    "plt.gca().xaxis.set_major_locator(mdates.DayLocator(interval=3))  # 设置xticks label\n",
    "plt.gca().xaxis.set_major_formatter(mdates.DateFormatter('%m/%d'))  # 设置日期格式\n",
    "plt.show()"
   ]
  },
  {
   "cell_type": "code",
   "execution_count": null,
   "id": "bdda2bf5",
   "metadata": {},
   "outputs": [],
   "source": [
    "df_META.tail(10)"
   ]
  },
  {
   "cell_type": "code",
   "execution_count": null,
   "id": "5b680c74",
   "metadata": {},
   "outputs": [],
   "source": []
  },
  {
   "cell_type": "code",
   "execution_count": null,
   "id": "c1e89a49",
   "metadata": {},
   "outputs": [],
   "source": []
  }
 ],
 "metadata": {
  "kernelspec": {
   "display_name": "Python 3 (ipykernel)",
   "language": "python",
   "name": "python3"
  },
  "language_info": {
   "codemirror_mode": {
    "name": "ipython",
    "version": 3
   },
   "file_extension": ".py",
   "mimetype": "text/x-python",
   "name": "python",
   "nbconvert_exporter": "python",
   "pygments_lexer": "ipython3",
   "version": "3.8.2"
  }
 },
 "nbformat": 4,
 "nbformat_minor": 5
}
