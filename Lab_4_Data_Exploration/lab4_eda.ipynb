{
 "cells": [
  {
   "cell_type": "markdown",
   "id": "d7f09b8f",
   "metadata": {},
   "source": [
    "# Lab 3 : Data Exploration"
   ]
  },
  {
   "cell_type": "code",
   "execution_count": null,
   "id": "0ac58ffa",
   "metadata": {},
   "outputs": [],
   "source": [
    "import pandas as pd\n",
    "import matplotlib.pyplot as plt\n",
    "import seaborn as sns\n",
    "from sklearn.linear_model import LinearRegression\n",
    "from sklearn.model_selection import train_test_split\n",
    "from sklearn.metrics import r2_score, mean_absolute_error\n",
    "from scipy import stats\n",
    "\n",
    "TIFFANY_BLUE='#7bf2da'\n",
    "CARTIER_RED='#801B2B'\n",
    "VALENTINO_PINK='#F261EE'\n",
    "Hermes_GOLD='#f37021'"
   ]
  },
  {
   "cell_type": "code",
   "execution_count": null,
   "id": "b765da82",
   "metadata": {},
   "outputs": [],
   "source": [
    "data = pd.read_csv('../data/train.csv')"
   ]
  },
  {
   "cell_type": "markdown",
   "id": "c0753e01",
   "metadata": {},
   "source": [
    "### 1. Missing Value"
   ]
  },
  {
   "cell_type": "code",
   "execution_count": null,
   "id": "032d8879",
   "metadata": {},
   "outputs": [],
   "source": [
    "# Compute missing values statistics\n",
    "missing_data = data.isnull().mean() * 100\n",
    "missing_data = missing_data[missing_data > 0].sort_values(ascending=False)\n",
    "\n",
    "# Plot missing values\n",
    "plt.figure(figsize=(12, 2))\n",
    "sns.barplot(x=missing_data.index, y=missing_data, color=TIFFANY_BLUE)\n",
    "plt.title('Percentage of Missing Data by Feature', fontsize=15)\n",
    "plt.xlabel('Features', fontsize=10)\n",
    "plt.ylabel('% Missing', fontsize=10)\n",
    "plt.xticks(rotation=40, ha='right')\n",
    "plt.show()"
   ]
  },
  {
   "cell_type": "code",
   "execution_count": null,
   "id": "1f8e5c9b",
   "metadata": {},
   "outputs": [],
   "source": [
    "#我們使用的三個Feature: 'GrLivArea', 'GarageArea', '1stFlrSF', 都沒有missing value"
   ]
  },
  {
   "attachments": {},
   "cell_type": "markdown",
   "id": "86553b1e",
   "metadata": {},
   "source": [
    "### 2. Outlier\n",
    "- 三個標準差\n",
    "- 68–95–99.7 rule\n",
    "\n",
    "![](images/04.png)\n"
   ]
  },
  {
   "cell_type": "code",
   "execution_count": null,
   "id": "aa9b17ba",
   "metadata": {},
   "outputs": [],
   "source": [
    "z_scores = stats.zscore(data[['GrLivArea', 'GarageArea', '1stFlrSF']])\n",
    "z_scores = z_scores.abs()\n",
    "outlier_mask = (z_scores > 1).any(axis=1)\n",
    "cleaned_data = data[~outlier_mask]\n",
    "print(f'raw data qty: {data.shape[0]}, cleaned_data:{cleaned_data.shape[0]}')"
   ]
  },
  {
   "cell_type": "markdown",
   "id": "fd0b0001",
   "metadata": {},
   "source": [
    "### 3. Regression Model"
   ]
  },
  {
   "cell_type": "code",
   "execution_count": null,
   "id": "7e78a827",
   "metadata": {},
   "outputs": [],
   "source": [
    "#split train & test data\n",
    "data_tr, data_ts = train_test_split(cleaned_data, test_size=0.2, random_state=4)\n",
    "print(f'training data size:{data_tr.shape},  testing data size:{data_ts.shape}')\n",
    "\n",
    "#train model\n",
    "use_cols = ['GrLivArea', 'GarageArea', '1stFlrSF', 'OverallQual']\n",
    "model = LinearRegression()\n",
    "model.fit(data_tr[use_cols].values, data_tr['SalePrice'])\n",
    "\n",
    "# predict and r2-score\n",
    "pred_tr = model.predict(data_tr[use_cols].values)\n",
    "pred_ts = model.predict(data_ts[use_cols].values)\n",
    "true_tr = data_tr['SalePrice']\n",
    "true_ts = data_ts['SalePrice']\n",
    "print(f'training data r2 score: {r2_score(pred_tr, true_tr):.3f}')\n",
    "print(f'testing data r2 score: {r2_score(pred_ts, true_ts):.3f}')\n",
    "\n",
    "\n",
    "print(f'training data mse score: {mean_absolute_error(pred_tr, true_tr):.3f}')\n",
    "print(f'testing data mse score: {mean_absolute_error(pred_ts, true_ts):.3f}')\n"
   ]
  },
  {
   "cell_type": "code",
   "execution_count": null,
   "id": "28af992f",
   "metadata": {},
   "outputs": [],
   "source": [
    "sns.scatterplot(x='GrLivArea', y='SalePrice', data=data_tr, color=TIFFANY_BLUE)"
   ]
  },
  {
   "cell_type": "markdown",
   "id": "df8c36c3",
   "metadata": {},
   "source": [
    "### Q? \n",
    "- 為什麼資料變很乾淨的時候 (只留一倍標準差內的資料), 反而r2-score變差了? \n",
    "   - 問題變簡單了, 所以對模型的要求就變高了 \n",
    "       - 想像如果是小學時數學考95分會是全班第一名 \n",
    "       - 但如果是大學生考小學數學題, 考95分應該會是全班最後一名"
   ]
  },
  {
   "cell_type": "code",
   "execution_count": null,
   "id": "a01acdd2",
   "metadata": {},
   "outputs": [],
   "source": []
  }
 ],
 "metadata": {
  "kernelspec": {
   "display_name": "Python 3 (ipykernel)",
   "language": "python",
   "name": "python3"
  },
  "language_info": {
   "codemirror_mode": {
    "name": "ipython",
    "version": 3
   },
   "file_extension": ".py",
   "mimetype": "text/x-python",
   "name": "python",
   "nbconvert_exporter": "python",
   "pygments_lexer": "ipython3",
   "version": "3.8.2"
  }
 },
 "nbformat": 4,
 "nbformat_minor": 5
}
