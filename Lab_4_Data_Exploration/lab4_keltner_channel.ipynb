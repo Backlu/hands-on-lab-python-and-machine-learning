{
 "cells": [
  {
   "cell_type": "markdown",
   "id": "a48ffe62",
   "metadata": {},
   "source": [
    "# Lab 4 : Keltner Channel"
   ]
  },
  {
   "cell_type": "markdown",
   "id": "07edbfd6",
   "metadata": {},
   "source": [
    "![](images/05.png)"
   ]
  },
  {
   "cell_type": "code",
   "execution_count": null,
   "id": "f480cf79",
   "metadata": {},
   "outputs": [],
   "source": [
    "import pandas as pd\n",
    "import matplotlib.pyplot as plt\n",
    "import matplotlib.dates as mdates\n",
    "import seaborn as sns\n",
    "#!pip install yfinance\n",
    "import yfinance as yf"
   ]
  },
  {
   "cell_type": "markdown",
   "id": "bf0d5a97",
   "metadata": {},
   "source": [
    "### 1. 網路爬蟲抓股價"
   ]
  },
  {
   "cell_type": "code",
   "execution_count": null,
   "id": "d975bea0",
   "metadata": {},
   "outputs": [],
   "source": [
    "STOCK_CODE='2330.TW'\n",
    "df_TSMC = yf.Ticker(STOCK_CODE).history(period=\"6mo\")\n"
   ]
  },
  {
   "cell_type": "markdown",
   "id": "251b024f",
   "metadata": {},
   "source": [
    "### 2. Keltner Channel"
   ]
  },
  {
   "cell_type": "code",
   "execution_count": null,
   "id": "256e78ba",
   "metadata": {},
   "outputs": [],
   "source": [
    "df_TSMC.head()"
   ]
  },
  {
   "cell_type": "code",
   "execution_count": null,
   "id": "ca25f051",
   "metadata": {},
   "outputs": [],
   "source": [
    "# 计算 Typical Price\n",
    "df_TSMC['typical_price'] = (df_TSMC['High'] + df_TSMC['Low'] + df_TSMC['Close']) / 3\n",
    "\n",
    "# 计算中轨（20日移动平均）\n",
    "n = 20\n",
    "df_TSMC['middle_band'] = df_TSMC['typical_price'].rolling(window=n).mean()\n",
    "\n",
    "# 计算 ATR（14日的平均真实范围）\n",
    "n_atr = 14\n",
    "high_prices = df_TSMC['High']\n",
    "low_prices = df_TSMC['Low']\n",
    "previous_closes = df_TSMC['Close'].shift(1)\n",
    "true_ranges = pd.Series([max(high_prices[i] - low_prices[i], abs(high_prices[i] - previous_closes[i]), abs(low_prices[i] - previous_closes[i])) for i in range(len(df_TSMC))])\n",
    "df_TSMC['atr'] = true_ranges.ewm(span=n_atr, min_periods=n_atr).mean().values\n",
    "\n",
    "# 计算上轨和下轨\n",
    "multiplier = 2  # 可根据需要调整\n",
    "df_TSMC['upper_band'] = df_TSMC['middle_band'] + multiplier * df_TSMC['atr']\n",
    "df_TSMC['lower_band'] = df_TSMC['middle_band'] - multiplier * df_TSMC['atr']\n"
   ]
  },
  {
   "cell_type": "code",
   "execution_count": null,
   "id": "d9699aeb",
   "metadata": {},
   "outputs": [],
   "source": [
    "plt.figure(figsize=(22,3))\n",
    "plt.plot(df_TSMC['middle_band'], label='MA20')\n",
    "plt.plot(df_TSMC['Close'], label='TSMC_Close')\n",
    "plt.plot(df_TSMC['Close'], 'o')\n",
    "plt.fill_between(df_TSMC.index, df_TSMC['lower_band'], df_TSMC['upper_band'], alpha=0.2, label='Keltner Channel')\n",
    "plt.xticks(rotation=40, ha='right');\n",
    "plt.legend()\n",
    "plt.grid()\n",
    "plt.gca().xaxis.set_major_locator(mdates.DayLocator(interval=3))  # 设置xticks label\n",
    "plt.gca().xaxis.set_major_formatter(mdates.DateFormatter('%m/%d'))  # 设置日期格式\n",
    "plt.show()\n"
   ]
  },
  {
   "cell_type": "markdown",
   "id": "665261de",
   "metadata": {},
   "source": [
    "### 3. 交易策略\n",
    "- 當均線斜率往上 價格由下往上穿過上/下通道 買進多單\n",
    "- 當均線斜率往下 價格由上往下跌破下/下通道 買進空單\n"
   ]
  },
  {
   "cell_type": "code",
   "execution_count": null,
   "id": "e1604d84",
   "metadata": {},
   "outputs": [],
   "source": []
  }
 ],
 "metadata": {
  "kernelspec": {
   "display_name": "Python 3 (ipykernel)",
   "language": "python",
   "name": "python3"
  },
  "language_info": {
   "codemirror_mode": {
    "name": "ipython",
    "version": 3
   },
   "file_extension": ".py",
   "mimetype": "text/x-python",
   "name": "python",
   "nbconvert_exporter": "python",
   "pygments_lexer": "ipython3",
   "version": "3.8.2"
  }
 },
 "nbformat": 4,
 "nbformat_minor": 5
}
