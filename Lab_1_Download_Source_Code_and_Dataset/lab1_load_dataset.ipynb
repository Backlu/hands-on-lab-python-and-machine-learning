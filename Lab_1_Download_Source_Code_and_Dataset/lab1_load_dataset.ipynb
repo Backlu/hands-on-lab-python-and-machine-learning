{
 "cells": [
  {
   "cell_type": "markdown",
   "id": "ac371241",
   "metadata": {},
   "source": [
    "# Lab2: Load Dataset"
   ]
  },
  {
   "cell_type": "code",
   "execution_count": null,
   "id": "6eb20eec",
   "metadata": {},
   "outputs": [],
   "source": [
    "import pandas as pd"
   ]
  },
  {
   "cell_type": "code",
   "execution_count": null,
   "id": "e6009cd9",
   "metadata": {},
   "outputs": [],
   "source": [
    "#使用pandas讀取資料\n",
    "data = pd.read_csv('../data/train.csv')"
   ]
  },
  {
   "cell_type": "code",
   "execution_count": null,
   "id": "78676895",
   "metadata": {},
   "outputs": [],
   "source": [
    "#print所有資料\n",
    "data"
   ]
  },
  {
   "cell_type": "code",
   "execution_count": null,
   "id": "18c28a97",
   "metadata": {},
   "outputs": [],
   "source": [
    "#只顯示前5筆資料\n",
    "data.head()"
   ]
  },
  {
   "cell_type": "code",
   "execution_count": null,
   "id": "cbdaaa72",
   "metadata": {},
   "outputs": [],
   "source": [
    "#顯示最後5筆資料\n",
    "data.tail()"
   ]
  },
  {
   "cell_type": "code",
   "execution_count": null,
   "id": "2b2203f0",
   "metadata": {},
   "outputs": [],
   "source": [
    "#看資料的shape (行數 x 列數)\n",
    "data.shape"
   ]
  },
  {
   "cell_type": "code",
   "execution_count": null,
   "id": "53a1c7b9",
   "metadata": {},
   "outputs": [],
   "source": [
    "#看每個欄位的統計資料\n",
    "data.describe()"
   ]
  },
  {
   "cell_type": "markdown",
   "id": "90996642",
   "metadata": {},
   "source": [
    "### 只讀特定的columns\n",
    "(當欄位超級多, 但其實只會用到其中幾個的時候可以用)"
   ]
  },
  {
   "cell_type": "code",
   "execution_count": null,
   "id": "f60999a4",
   "metadata": {},
   "outputs": [],
   "source": [
    "data = pd.read_csv('../data/house_prices_train.csv', usecols=['SalePrice', 'GrLivArea'])\n"
   ]
  },
  {
   "cell_type": "code",
   "execution_count": null,
   "id": "50bcb7ea",
   "metadata": {},
   "outputs": [],
   "source": [
    "data.head()"
   ]
  },
  {
   "cell_type": "markdown",
   "id": "8285cb6f",
   "metadata": {},
   "source": [
    "### 只讀幾行資料 \n",
    "(當資料超級大, 但又需要先抓一點出來看的時候可以用)"
   ]
  },
  {
   "cell_type": "code",
   "execution_count": null,
   "id": "524eed64",
   "metadata": {},
   "outputs": [],
   "source": [
    "data = pd.read_csv('../data/house_prices_train.csv', usecols=['SalePrice', 'GrLivArea'], nrows=100)\n"
   ]
  },
  {
   "cell_type": "code",
   "execution_count": null,
   "id": "5bccbd56",
   "metadata": {},
   "outputs": [],
   "source": [
    "data.shape"
   ]
  },
  {
   "cell_type": "code",
   "execution_count": null,
   "id": "4a4c40f2",
   "metadata": {},
   "outputs": [],
   "source": []
  }
 ],
 "metadata": {
  "kernelspec": {
   "display_name": "Python 3 (ipykernel)",
   "language": "python",
   "name": "python3"
  },
  "language_info": {
   "codemirror_mode": {
    "name": "ipython",
    "version": 3
   },
   "file_extension": ".py",
   "mimetype": "text/x-python",
   "name": "python",
   "nbconvert_exporter": "python",
   "pygments_lexer": "ipython3",
   "version": "3.8.2"
  }
 },
 "nbformat": 4,
 "nbformat_minor": 5
}
