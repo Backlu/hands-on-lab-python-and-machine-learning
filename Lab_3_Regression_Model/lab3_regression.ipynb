{
 "cells": [
  {
   "cell_type": "markdown",
   "id": "cb530e6b",
   "metadata": {},
   "source": [
    "# Lab6: Linear Regression"
   ]
  },
  {
   "cell_type": "code",
   "execution_count": null,
   "id": "92d6840a",
   "metadata": {},
   "outputs": [],
   "source": [
    "import pandas as pd\n",
    "from sklearn.linear_model import LinearRegression\n",
    "from sklearn.model_selection import train_test_split"
   ]
  },
  {
   "cell_type": "code",
   "execution_count": null,
   "id": "86f45279",
   "metadata": {},
   "outputs": [],
   "source": [
    "data = pd.read_csv('../data/train.csv')"
   ]
  },
  {
   "cell_type": "markdown",
   "id": "58c512c3",
   "metadata": {},
   "source": [
    "### 1. split train and test data"
   ]
  },
  {
   "cell_type": "code",
   "execution_count": null,
   "id": "b8f5da3a",
   "metadata": {},
   "outputs": [],
   "source": [
    "data_tr, data_ts = train_test_split(data, test_size=0.2)\n",
    "\n",
    "print(f'training data size:{data_tr.shape},  testing data size:{data_ts.shape}')"
   ]
  },
  {
   "cell_type": "code",
   "execution_count": null,
   "id": "e534e59f",
   "metadata": {},
   "outputs": [],
   "source": [
    "#X-Feature\n",
    "data_tr[['GrLivArea', 'GarageArea', '1stFlrSF', 'OverallQual']]"
   ]
  },
  {
   "cell_type": "code",
   "execution_count": null,
   "id": "0a8bea3c",
   "metadata": {},
   "outputs": [],
   "source": [
    "#Y-SalePrice\n",
    "data_tr['SalePrice']"
   ]
  },
  {
   "cell_type": "markdown",
   "id": "4570db5b",
   "metadata": {},
   "source": [
    "### 2. Train Model "
   ]
  },
  {
   "cell_type": "code",
   "execution_count": null,
   "id": "47d0eee2",
   "metadata": {},
   "outputs": [],
   "source": [
    "use_cols = ['GrLivArea', 'GarageArea', '1stFlrSF', 'OverallQual']\n",
    "model = LinearRegression()\n",
    "model.fit(data_tr[use_cols].values, data_tr['SalePrice'])\n",
    "\n",
    "print(f'coef.: {model.coef_}')\n",
    "print(f'intercept: {model.intercept_}')"
   ]
  },
  {
   "cell_type": "markdown",
   "id": "34b94366",
   "metadata": {},
   "source": [
    "### 3. Prediction Test Data"
   ]
  },
  {
   "cell_type": "code",
   "execution_count": null,
   "id": "6f43a39f",
   "metadata": {},
   "outputs": [],
   "source": [
    "pred_tr = model.predict(data_tr[use_cols].values)\n",
    "pred_ts = model.predict(data_ts[use_cols].values)"
   ]
  },
  {
   "cell_type": "code",
   "execution_count": null,
   "id": "99c4aea0",
   "metadata": {},
   "outputs": [],
   "source": [
    "true_tr = data_tr['SalePrice']\n",
    "true_ts = data_ts['SalePrice']"
   ]
  },
  {
   "cell_type": "markdown",
   "id": "0ab1e18a",
   "metadata": {},
   "source": [
    "### 4. Evaluation"
   ]
  },
  {
   "cell_type": "code",
   "execution_count": null,
   "id": "dca36988",
   "metadata": {},
   "outputs": [],
   "source": [
    "from sklearn.metrics import r2_score\n"
   ]
  },
  {
   "cell_type": "code",
   "execution_count": null,
   "id": "e69f3e2c",
   "metadata": {},
   "outputs": [],
   "source": [
    "print(f'training data r2 score: {r2_score(pred_tr, true_tr):.3f}')\n",
    "print(f'testing data r2 score: {r2_score(pred_ts, true_ts):.3f}')"
   ]
  },
  {
   "cell_type": "markdown",
   "id": "b0e5c9be",
   "metadata": {},
   "source": [
    "***"
   ]
  },
  {
   "cell_type": "markdown",
   "id": "1db9cd43",
   "metadata": {},
   "source": [
    "### 5. Debby加碼講解 statsmodels 使用方式"
   ]
  },
  {
   "cell_type": "code",
   "execution_count": null,
   "id": "078cc916",
   "metadata": {},
   "outputs": [],
   "source": [
    "import statsmodels.api as sm\n",
    "import statsmodels.formula.api as smf\n",
    "import matplotlib.pyplot as plt\n",
    "slr_sm_model = smf.ols('SalePrice ~ GrLivArea + OverallQual + GarageArea', data=data)\n",
    "### Fit the model (statsmodels calculates beta_0 and beta_1 here)\n",
    "slr_sm_model_rating = slr_sm_model.fit()"
   ]
  },
  {
   "cell_type": "code",
   "execution_count": null,
   "id": "888e997d",
   "metadata": {},
   "outputs": [],
   "source": [
    "print(slr_sm_model_rating.summary())"
   ]
  },
  {
   "cell_type": "code",
   "execution_count": null,
   "id": "3d7b231d",
   "metadata": {
    "scrolled": false
   },
   "outputs": [],
   "source": []
  }
 ],
 "metadata": {
  "kernelspec": {
   "display_name": "Python 3 (ipykernel)",
   "language": "python",
   "name": "python3"
  },
  "language_info": {
   "codemirror_mode": {
    "name": "ipython",
    "version": 3
   },
   "file_extension": ".py",
   "mimetype": "text/x-python",
   "name": "python",
   "nbconvert_exporter": "python",
   "pygments_lexer": "ipython3",
   "version": "3.8.2"
  }
 },
 "nbformat": 4,
 "nbformat_minor": 5
}
