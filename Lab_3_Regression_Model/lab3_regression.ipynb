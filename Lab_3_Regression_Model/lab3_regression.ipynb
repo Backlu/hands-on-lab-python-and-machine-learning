{
 "cells": [
  {
   "cell_type": "markdown",
   "id": "cb530e6b",
   "metadata": {},
   "source": [
    "# Lab 3 : Linear Regression"
   ]
  },
  {
   "cell_type": "code",
   "execution_count": null,
   "id": "92d6840a",
   "metadata": {},
   "outputs": [],
   "source": [
    "import pandas as pd\n",
    "from sklearn.linear_model import LinearRegression\n",
    "from sklearn.model_selection import train_test_split"
   ]
  },
  {
   "cell_type": "code",
   "execution_count": null,
   "id": "86f45279",
   "metadata": {},
   "outputs": [],
   "source": [
    "data = pd.read_csv('../data/train.csv')"
   ]
  },
  {
   "cell_type": "markdown",
   "id": "58c512c3",
   "metadata": {},
   "source": [
    "### 1. split train and test data"
   ]
  },
  {
   "cell_type": "code",
   "execution_count": null,
   "id": "b8f5da3a",
   "metadata": {},
   "outputs": [],
   "source": [
    "data_tr, data_ts = train_test_split(data, test_size=0.2)\n",
    "\n",
    "print(f'training data size:{data_tr.shape},  testing data size:{data_ts.shape}')"
   ]
  },
  {
   "cell_type": "code",
   "execution_count": null,
   "id": "e534e59f",
   "metadata": {},
   "outputs": [],
   "source": [
    "#X: Feature\n",
    "data_tr[['GrLivArea', 'GarageArea', '1stFlrSF', 'OverallQual']]"
   ]
  },
  {
   "cell_type": "code",
   "execution_count": null,
   "id": "0a8bea3c",
   "metadata": {},
   "outputs": [],
   "source": [
    "#Y: SalePrice\n",
    "data_tr['SalePrice']"
   ]
  },
  {
   "cell_type": "markdown",
   "id": "4570db5b",
   "metadata": {},
   "source": [
    "### 2. Train Model "
   ]
  },
  {
   "cell_type": "code",
   "execution_count": null,
   "id": "47d0eee2",
   "metadata": {},
   "outputs": [],
   "source": [
    "use_cols = ['GrLivArea', 'GarageArea', '1stFlrSF', 'OverallQual']\n",
    "model = LinearRegression()\n",
    "model.fit(data_tr[use_cols].values, data_tr['SalePrice'])\n",
    "\n",
    "print(f'coef.: {model.coef_}')\n",
    "print(f'intercept: {model.intercept_}')"
   ]
  },
  {
   "cell_type": "markdown",
   "id": "34b94366",
   "metadata": {},
   "source": [
    "### 3. Prediction Test Data"
   ]
  },
  {
   "cell_type": "code",
   "execution_count": null,
   "id": "6f43a39f",
   "metadata": {},
   "outputs": [],
   "source": [
    "pred_tr = model.predict(data_tr[use_cols].values)\n",
    "pred_ts = model.predict(data_ts[use_cols].values)"
   ]
  },
  {
   "cell_type": "code",
   "execution_count": null,
   "id": "99c4aea0",
   "metadata": {},
   "outputs": [],
   "source": [
    "true_tr = data_tr['SalePrice']\n",
    "true_ts = data_ts['SalePrice']"
   ]
  },
  {
   "cell_type": "markdown",
   "id": "0ab1e18a",
   "metadata": {},
   "source": [
    "### 4. Evaluation"
   ]
  },
  {
   "cell_type": "code",
   "execution_count": null,
   "id": "dca36988",
   "metadata": {},
   "outputs": [],
   "source": [
    "from sklearn.metrics import r2_score\n"
   ]
  },
  {
   "cell_type": "code",
   "execution_count": null,
   "id": "e69f3e2c",
   "metadata": {
    "scrolled": true
   },
   "outputs": [],
   "source": [
    "print(f'training data r2 score: {r2_score(pred_tr, true_tr):.3f}')\n",
    "print(f'testing data r2 score: {r2_score(pred_ts, true_ts):.3f}')"
   ]
  },
  {
   "cell_type": "code",
   "execution_count": null,
   "id": "af813fcc",
   "metadata": {},
   "outputs": [],
   "source": [
    "import matplotlib.pyplot as plt\n",
    "import seaborn as sns\n",
    "\n",
    "GrLivArea_max = max(data_tr['GrLivArea'].max(), data_ts['GrLivArea'].max())+500\n",
    "\n",
    "data_tr['SalePrice_pred'] = model.predict(data_tr[use_cols].values)\n",
    "sns.scatterplot(x='GrLivArea', y='SalePrice', data=data_tr, label='true', color='green')\n",
    "sns.scatterplot(x='GrLivArea', y='SalePrice_pred', data=data_tr, label='predict', color='orange')\n",
    "plt.xlim(0, GrLivArea_max)\n",
    "plt.title('data_tr - true vs predict')\n",
    "plt.show()\n",
    "\n",
    "data_ts['SalePrice_pred'] = model.predict(data_ts[use_cols].values)\n",
    "sns.scatterplot(x='GrLivArea', y='SalePrice', data=data_ts, label='true', color='green')\n",
    "sns.scatterplot(x='GrLivArea', y='SalePrice_pred', data=data_ts, label='predict', color='orange')\n",
    "plt.xlim(0, GrLivArea_max)\n",
    "plt.title('data_ts - true vs predict')\n",
    "plt.show()"
   ]
  },
  {
   "cell_type": "markdown",
   "id": "f6066ef6",
   "metadata": {},
   "source": [
    "### 練習\n",
    "- 多跑幾次看看\n",
    "\n",
    "### Why? \n",
    "- 為什麼分數(r2-score)不太穩定, 有時候training data & testing data的r2-score差異很大? \n",
    "\n"
   ]
  },
  {
   "cell_type": "markdown",
   "id": "661f935e",
   "metadata": {},
   "source": [
    "***"
   ]
  },
  {
   "cell_type": "markdown",
   "id": "6bc47a4f",
   "metadata": {},
   "source": [
    "### 5. Debby加碼講解 statsmodels 使用方式"
   ]
  },
  {
   "cell_type": "code",
   "execution_count": null,
   "id": "078cc916",
   "metadata": {},
   "outputs": [],
   "source": [
    "import statsmodels.api as sm\n",
    "import statsmodels.formula.api as smf\n",
    "import matplotlib.pyplot as plt\n",
    "slr_sm_model = smf.ols('SalePrice ~ GrLivArea + OverallQual + GarageArea', data=data)\n",
    "### Fit the model (statsmodels calculates beta_0 and beta_1 here)\n",
    "slr_sm_model_rating = slr_sm_model.fit()"
   ]
  },
  {
   "cell_type": "code",
   "execution_count": null,
   "id": "888e997d",
   "metadata": {},
   "outputs": [],
   "source": [
    "print(slr_sm_model_rating.summary())"
   ]
  },
  {
   "cell_type": "markdown",
   "id": "1b969ce4",
   "metadata": {
    "scrolled": false
   },
   "source": [
    "#### Regression Result解釋\n",
    "\n",
    "1. R-squared（決定係數）：R-squared為0.739，表示模型中的自變量（地面以上生活區面積、整體質量評級和車庫面積）能夠解釋約73.9%的因變量（房屋售價）的變異性。這意味著這些自變量可以很好地解釋房屋售價的變化。\n",
    "3. F-statistic（F統計量）: F-statistic值為115.2，對應的概率（Prob）為3.10e-18（非常接近零）。這個值用於檢驗模型是否顯著地解釋了因變量的變異。\n",
    "4. coef（迴歸係數）: 模型中每個自變量的係數表示了當該自變量變動一個單位時，因變量的變動量。例如，GrLivArea的係數為49.6493，這表示當地面以上生活區面積（GrLivArea）增加一個單位時，房屋售價平均會增加49.6493美元。\n",
    "5. 標準錯誤（std err）：標準誤差表示了係數的估計精度。例如，GrLivArea的標準誤差為2.565，這表示估計的GrLivArea係數的真實值有可能在估計值的正負2.565的範圍內。\n",
    "\n",
    "6. t（t統計量）: t-value用於評估係數是否顯著。一般來說，當t-value的絕對值越大時，係數越顯著。在這個結果中，所有自變量的t-value都遠大於1.96，這顯示了所有係數的顯著性。\n",
    "\n",
    "7. P值（P>|t|）: P-value用於評估係數是否顯著。在這個結果中，所有自變量的P-value都小於0.05，這意味著所有係數都是統計上顯著的，與因變量的關係不是由於隨機因素導致的。。\n",
    "\n",
    "根據這個回歸分析的結果，我們可以對每個自變數進行詳細的解釋，然後進行綜合評估報告。\n",
    "\n",
    "1. **GrLivArea（地面以上生活區面積）**：\n",
    "   - 係數（Coef）：49.6493，表示當地面以上生活區面積增加一個單位時，房屋售價平均會增加49.6493美元。\n",
    "   - 標準誤差（std err）：2.565，表示係數的估計精度。\n",
    "   - t-value：19.353，顯示係數的顯著性。\n",
    "   - P-value：0.000，表示係數是統計上顯著的。\n",
    "\n",
    "2. **OverallQual（整體質量評級）**：\n",
    "   - 係數（Coef）：2.791e+04，表示當整體質量評級增加一個單位時，房屋售價平均會增加2.791e+04美元。\n",
    "   - 標準誤差（std err）：1040.867，表示係數的估計精度。\n",
    "   - t-value：26.815，顯示係數的顯著性。\n",
    "   - P-value：0.000，表示係數是統計上顯著的。\n",
    "\n",
    "3. **GarageArea（車庫面積）**：\n",
    "   - 係數（Coef）：72.9478，表示當車庫面積增加一個單位時，房屋售價平均會增加72.9478美元。\n",
    "   - 標準誤差（std err）：6.138，表示係數的估計精度。\n",
    "   - t-value：11.884，顯示係數的顯著性。\n",
    "   - P-value：0.000，表示係數是統計上顯著的。\n",
    "\n",
    "綜合評估報告：\n",
    "- 這個回歸模型的整體表現良好，R-squared值為0.739，表示模型中的自變數能夠解釋約73.9%的房屋售價的變異性。\n",
    "- 每個自變數的係數都是統計上顯著的，且與房屋售價呈正向關係，即隨著地面以上生活區面積、整體質量評級和車庫面積的增加，房屋售價也相應增加。\n",
    "- 模型的標準誤差相對較低，表示模型的估計相對準確。\n",
    "- 雖然模型中的檢驗統計量顯示了所有係數的顯著性，但仍然需要注意潛在的多重共線性或其他數值問題。\n",
    "\n",
    "總的來說，這個回歸模型可以作為房屋售價的預測工具，但在應用時需要考慮到模型的限制並進行進一步的檢驗和驗證。\n"
   ]
  },
  {
   "cell_type": "markdown",
   "id": "45a79985",
   "metadata": {},
   "source": [
    "***"
   ]
  }
 ],
 "metadata": {
  "kernelspec": {
   "display_name": "Python 3 (ipykernel)",
   "language": "python",
   "name": "python3"
  },
  "language_info": {
   "codemirror_mode": {
    "name": "ipython",
    "version": 3
   },
   "file_extension": ".py",
   "mimetype": "text/x-python",
   "name": "python",
   "nbconvert_exporter": "python",
   "pygments_lexer": "ipython3",
   "version": "3.8.2"
  }
 },
 "nbformat": 4,
 "nbformat_minor": 5
}
