{
 "cells": [
  {
   "cell_type": "markdown",
   "id": "496468b1",
   "metadata": {},
   "source": [
    "# Lab4: Data Visualization"
   ]
  },
  {
   "cell_type": "code",
   "execution_count": null,
   "id": "27e28bd4",
   "metadata": {},
   "outputs": [],
   "source": [
    "import pandas as pd\n",
    "import matplotlib.pyplot as plt\n",
    "import seaborn as sns\n",
    "\n",
    "pd.set_option(\"display.max_columns\", None)"
   ]
  },
  {
   "cell_type": "code",
   "execution_count": null,
   "id": "5bb33eff",
   "metadata": {},
   "outputs": [],
   "source": [
    "#使用pandas讀取資料\n",
    "data = pd.read_csv('../data/train.csv')\n",
    "data.head()"
   ]
  },
  {
   "cell_type": "markdown",
   "id": "62f8fa4d",
   "metadata": {},
   "source": [
    "### 1. 連續型變數 - Scatter Plot"
   ]
  },
  {
   "cell_type": "code",
   "execution_count": null,
   "id": "13949c6a",
   "metadata": {},
   "outputs": [],
   "source": [
    "sns.scatterplot(x='GrLivArea', y='SalePrice', data=data)\n",
    "\n",
    "# GrLivArea: 地上坪數\n",
    "# SalesPrice: 房價\n",
    "# 當地上坪數越大時, 價格也越高, 呈現正相關\n"
   ]
  },
  {
   "cell_type": "code",
   "execution_count": null,
   "id": "d4499559",
   "metadata": {},
   "outputs": [],
   "source": [
    "\n",
    "sns.scatterplot(x='GarageArea', y='SalePrice', data=data)\n",
    "\n",
    "# GarageArea: 車庫坪數\n",
    "# SalesPrice: 房價\n",
    "# 當車庫坪數越大時, 價格也越高, 但是當沒有車庫時, 房價變異較大\n"
   ]
  },
  {
   "cell_type": "code",
   "execution_count": null,
   "id": "66af62ee",
   "metadata": {},
   "outputs": [],
   "source": [
    "\n",
    "sns.scatterplot(x='1stFlrSF', y='SalePrice', data=data)\n",
    "\n",
    "# 1stFlrSF: 一樓坪數\n",
    "# SalesPrice: 房價\n",
    "# 當一樓坪數越大時, 價格也越高\n"
   ]
  },
  {
   "cell_type": "code",
   "execution_count": null,
   "id": "9a007f8f",
   "metadata": {},
   "outputs": [],
   "source": [
    "\n",
    "sns.scatterplot(x='PoolArea', y='SalePrice', data=data)\n",
    "\n",
    "# PoolArea: 泳池面積\n",
    "# SalesPrice: 房價\n",
    "# 泳池面積和房價沒什麼關係, 而且大部分房子沒有泳池\n"
   ]
  },
  {
   "cell_type": "markdown",
   "id": "e912a869",
   "metadata": {},
   "source": [
    "### 類別型變數 - Boxplot"
   ]
  },
  {
   "cell_type": "code",
   "execution_count": null,
   "id": "deb19b65",
   "metadata": {},
   "outputs": [],
   "source": [
    "sns.boxplot(x='OverallQual', y='SalePrice', data=data)\n",
    "\n",
    "# OverallQual: 施工品質\n",
    "# SalesPrice: 房價\n",
    "# 施工品質越好, 房價越高\n"
   ]
  },
  {
   "cell_type": "code",
   "execution_count": null,
   "id": "94fc55a0",
   "metadata": {},
   "outputs": [],
   "source": [
    "sns.boxplot(x='BsmtQual', y='SalePrice', data=data)\n",
    "\n",
    "# BsmtQual: 地下室品質 (Ex: excellent,  Gd: Good, TA: Typical, Fa: Fair)\n",
    "# SalesPrice: 房價\n",
    "# 地下室品質與房價關係好像不太明顯?, 但類別Fa的房價普遍都比較低\n"
   ]
  },
  {
   "cell_type": "code",
   "execution_count": null,
   "id": "ff1de34a",
   "metadata": {},
   "outputs": [],
   "source": [
    "#調整一下順序\n",
    "sns.boxplot(x='BsmtQual', y='SalePrice', data=data, order=['Fa', 'TA', 'Gd', 'Ex'])\n",
    "\n",
    "# BsmtQual: 地下室品質 (Ex: excellent,  Gd: Good, TA: Typical, Fa: Fair)\n",
    "# SalesPrice: 房價\n",
    "# 地下室品質, 房價越高\n"
   ]
  },
  {
   "cell_type": "code",
   "execution_count": null,
   "id": "3b508832",
   "metadata": {},
   "outputs": [],
   "source": []
  },
  {
   "cell_type": "code",
   "execution_count": null,
   "id": "77de44ab",
   "metadata": {},
   "outputs": [],
   "source": []
  }
 ],
 "metadata": {
  "kernelspec": {
   "display_name": "Python 3 (ipykernel)",
   "language": "python",
   "name": "python3"
  },
  "language_info": {
   "codemirror_mode": {
    "name": "ipython",
    "version": 3
   },
   "file_extension": ".py",
   "mimetype": "text/x-python",
   "name": "python",
   "nbconvert_exporter": "python",
   "pygments_lexer": "ipython3",
   "version": "3.8.2"
  }
 },
 "nbformat": 4,
 "nbformat_minor": 5
}
